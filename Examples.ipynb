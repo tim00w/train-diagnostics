{
 "cells": [
  {
   "cell_type": "markdown",
   "metadata": {},
   "source": [
    "# TrainDiagnostics"
   ]
  },
  {
   "cell_type": "code",
   "execution_count": 1,
   "metadata": {},
   "outputs": [],
   "source": [
    "# Import module\n",
    "\n",
    "import traindiagnostics as td"
   ]
  },
  {
   "cell_type": "code",
   "execution_count": 4,
   "metadata": {},
   "outputs": [
    {
     "data": {
      "text/plain": [
       "<TimeSeries> (default=0)\n",
       "2019-01-01T09:00:01+00:00: 0,\n",
       "2019-01-01T09:00:04+00:00: 1,\n",
       "2019-01-01T09:00:06+00:00: 0,\n",
       "2019-01-01T09:01:09+00:00: 1,\n",
       "2019-01-01T09:01:32+00:00: 0,\n",
       "2019-01-01T09:05:48+00:00: 1,\n",
       "2019-01-01T09:10:54+00:00: 0,"
      ]
     },
     "execution_count": 4,
     "metadata": {},
     "output_type": "execute_result"
    }
   ],
   "source": [
    "# create your first TimeSeries\n",
    "ts = td.TimeSeries({\n",
    "    \"2019-01-01 09:00:01\": 0,\n",
    "    \"2019-01-01 09:00:04\": 1,\n",
    "    \"2019-01-01 09:00:06\": 0,\n",
    "    \"2019-01-01 09:01:09\": 1,\n",
    "    \"2019-01-01 09:01:32\": 0,\n",
    "    \"2019-01-01 09:05:48\": 1,\n",
    "    \"2019-01-01 09:10:54\": 0,\n",
    "})\n",
    "\n",
    "ts"
   ]
  },
  {
   "cell_type": "code",
   "execution_count": 5,
   "metadata": {},
   "outputs": [
    {
     "data": {
      "text/plain": [
       "0"
      ]
     },
     "execution_count": 5,
     "metadata": {},
     "output_type": "execute_result"
    }
   ],
   "source": [
    "# Works like an ordinary dict\n",
    "\n",
    "ts[\"2019-01-01 09:00:01\"]"
   ]
  },
  {
   "cell_type": "code",
   "execution_count": 7,
   "metadata": {},
   "outputs": [
    {
     "data": {
      "text/plain": [
       "1"
      ]
     },
     "execution_count": 7,
     "metadata": {},
     "output_type": "execute_result"
    }
   ],
   "source": [
    "# Also returns the actual value for non-existing keys\n",
    "\n",
    "ts[\"2019-01-01 09:00:05\"]"
   ]
  },
  {
   "cell_type": "code",
   "execution_count": 8,
   "metadata": {},
   "outputs": [
    {
     "data": {
      "text/plain": [
       "1"
      ]
     },
     "execution_count": 8,
     "metadata": {},
     "output_type": "execute_result"
    }
   ],
   "source": [
    "# Accepts datetime objects!\n",
    "from datetime import datetime\n",
    "\n",
    "ts[datetime(2019, 1, 1, 9, 6, 0)]"
   ]
  },
  {
   "cell_type": "code",
   "execution_count": 11,
   "metadata": {},
   "outputs": [
    {
     "data": {
      "text/plain": [
       "<TimeSeries> (default=0)\n",
       "2019-01-01T09:00:01+00:00: 0,\n",
       "2019-01-01T09:00:04+00:00: 1,\n",
       "2019-01-01T09:00:06+00:00: 0,\n",
       "2019-01-01T09:00:15+00:00: 2,\n",
       "2019-01-01T09:01:09+00:00: 3,\n",
       "2019-01-01T09:01:32+00:00: 2,\n",
       "2019-01-01T09:05:48+00:00: 3,\n",
       "2019-01-01T09:06:15+00:00: 1,\n",
       "2019-01-01T09:10:54+00:00: 0,"
      ]
     },
     "execution_count": 11,
     "metadata": {},
     "output_type": "execute_result"
    }
   ],
   "source": [
    "# Mathematical equations\n",
    "ts2 = td.TimeSeries({\n",
    "    datetime(2019,1,1,9,0,15): 2,\n",
    "    datetime(2019,1,1,9,6, 15): 0\n",
    "})\n",
    "\n",
    "ts3 = ts + ts2\n",
    "ts3"
   ]
  },
  {
   "cell_type": "code",
   "execution_count": 13,
   "metadata": {},
   "outputs": [
    {
     "data": {
      "text/plain": [
       "<TimeSeries> (default=0)\n",
       "2019-01-01T09:00:01+00:00: False,\n",
       "2019-01-01T09:00:04+00:00: False,\n",
       "2019-01-01T09:00:06+00:00: False,\n",
       "2019-01-01T09:00:15+00:00: False,\n",
       "2019-01-01T09:01:09+00:00: True,\n",
       "2019-01-01T09:01:32+00:00: False,\n",
       "2019-01-01T09:05:48+00:00: True,\n",
       "2019-01-01T09:06:15+00:00: False,\n",
       "2019-01-01T09:10:54+00:00: False,"
      ]
     },
     "execution_count": 13,
     "metadata": {},
     "output_type": "execute_result"
    }
   ],
   "source": [
    "# and even boolean statements\n",
    "\n",
    "ts4 = ts3 > 2\n",
    "ts4"
   ]
  },
  {
   "cell_type": "code",
   "execution_count": 14,
   "metadata": {},
   "outputs": [
    {
     "data": {
      "text/plain": [
       "<TimeSeries> (default=0)\n",
       "2019-01-01T09:00:01+00:00: False,\n",
       "2019-01-01T09:01:09+00:00: True,\n",
       "2019-01-01T09:01:32+00:00: False,\n",
       "2019-01-01T09:05:48+00:00: True,\n",
       "2019-01-01T09:06:15+00:00: False,"
      ]
     },
     "execution_count": 14,
     "metadata": {},
     "output_type": "execute_result"
    }
   ],
   "source": [
    "ts4.compact()"
   ]
  },
  {
   "cell_type": "code",
   "execution_count": 16,
   "metadata": {},
   "outputs": [
    {
     "data": {
      "text/plain": [
       "<TimeSeries> (default=0)\n",
       "2019-01-01T09:00:01+00:00: 0,\n",
       "2019-01-01T09:00:04+00:00: 0,\n",
       "2019-01-01T09:00:06+00:00: 0,\n",
       "2019-01-01T09:00:15+00:00: 0,\n",
       "2019-01-01T09:01:09+00:00: 0,\n",
       "2019-01-01T09:01:32+00:00: 0,\n",
       "2019-01-01T09:05:48+00:00: 0,\n",
       "2019-01-01T09:06:15+00:00: 0,\n",
       "2019-01-01T09:10:54+00:00: 0,"
      ]
     },
     "execution_count": 16,
     "metadata": {},
     "output_type": "execute_result"
    }
   ],
   "source": []
  },
  {
   "cell_type": "code",
   "execution_count": null,
   "metadata": {},
   "outputs": [],
   "source": []
  }
 ],
 "metadata": {
  "kernelspec": {
   "display_name": "Python 3",
   "language": "python",
   "name": "python3"
  },
  "language_info": {
   "codemirror_mode": {
    "name": "ipython",
    "version": 3
   },
   "file_extension": ".py",
   "mimetype": "text/x-python",
   "name": "python",
   "nbconvert_exporter": "python",
   "pygments_lexer": "ipython3",
   "version": "3.7.4"
  }
 },
 "nbformat": 4,
 "nbformat_minor": 2
}
